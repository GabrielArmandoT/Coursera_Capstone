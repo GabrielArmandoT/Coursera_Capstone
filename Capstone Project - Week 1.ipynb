{
 "cells": [
  {
   "cell_type": "markdown",
   "metadata": {},
   "source": [
    "# <center>Capstone Project - The Battle of Neighborhoods (Week 1)</center>"
   ]
  },
  {
   "cell_type": "markdown",
   "metadata": {},
   "source": [
    "In this lab, I'm beginning to solve the Lab: \"Capstone Project - The Battle of Neighborhoods (Week 1)\" that is part of the Week 4 in the Data Science Capstone Course."
   ]
  },
  {
   "cell_type": "markdown",
   "metadata": {},
   "source": [
    "## Introduction\n",
    "\n",
    "We are put in practice the power of **Data Science** to solve real world problem, in this case we are going to solve business problems using all the tools learned in the **IBM Data Science program**, specially the last tools learned in the last course: **Applied Data Science Capstone**."
   ]
  },
  {
   "cell_type": "markdown",
   "metadata": {},
   "source": [
    "## Business Problem\n",
    "\n",
    "We are looking for Business opportunities in the city of Toronto, we are going to leverage all the data that we have of the city of New York because like financial hearts of their countries they have a lot of common, beyond its geographical proximity, and we are looking for successfull business in NY not so spread in Toronto to find an opportunity to develop a new brand or business. "
   ]
  },
  {
   "cell_type": "markdown",
   "metadata": {},
   "source": [
    "## Data\n",
    "\n",
    "We are going to use the data obtained from Foursquare from both cities to know the most important venues in each one and compare them to find a business that are not massive in Toronto, or even better, to find a business that are not present in the Toronto yet. The Districts to compare will be Manhattan in New York and Downtown Toronto."
   ]
  },
  {
   "cell_type": "code",
   "execution_count": null,
   "metadata": {},
   "outputs": [],
   "source": []
  },
  {
   "cell_type": "code",
   "execution_count": null,
   "metadata": {},
   "outputs": [],
   "source": []
  }
 ],
 "metadata": {
  "kernelspec": {
   "display_name": "Python",
   "language": "python",
   "name": "conda-env-python-py"
  },
  "language_info": {
   "codemirror_mode": {
    "name": "ipython",
    "version": 3
   },
   "file_extension": ".py",
   "mimetype": "text/x-python",
   "name": "python",
   "nbconvert_exporter": "python",
   "pygments_lexer": "ipython3",
   "version": "3.6.11"
  }
 },
 "nbformat": 4,
 "nbformat_minor": 4
}
